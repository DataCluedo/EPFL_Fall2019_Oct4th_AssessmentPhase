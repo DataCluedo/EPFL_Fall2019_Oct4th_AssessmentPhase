{
 "cells": [
  {
   "cell_type": "markdown",
   "metadata": {},
   "source": [
    "# CITY STATISTICS (10 mins)\n",
    "# Instructions / Notes: Read these carefully\n",
    "This **Python Jupyter Notebook** notebook is split into the following sections:\n",
    "\n",
    "1. **Initial section** with pre-filled cells, that you should run just to load some Python modules (packages), the dataset required for your task and its variables in memory.\n",
    "2. **Middle section** with **description of a concrete task** associated with the dataset. \n",
    "3. **Final section (with one or more empty cells)** where you can perform analyses with the loaded dataset (e.g., write a few lines of code if needed), answer the question posed, and describe your reasoning in words.\n",
    "\n",
    "**Read and execute each cell in order, without skipping forward**. To execute any cell, press **Shift+Enter** on your keyboard. It might take a couple of seconds to receive an output.\n",
    "\n",
    "Have fun!"
   ]
  },
  {
   "cell_type": "code",
   "execution_count": null,
   "metadata": {},
   "outputs": [],
   "source": [
    "# Run the following to import necessary packages and import dataset.\n",
    "import pandas as pd\n",
    "import numpy as np\n",
    "import scipy as sp\n",
    "from IPython.core.interactiveshell import InteractiveShell\n",
    "InteractiveShell.ast_node_interactivity = \"all\"\n",
    "import matplotlib\n",
    "import matplotlib.pyplot as plt\n",
    "import seaborn as sns\n",
    "%matplotlib inline\n",
    "matplotlib.style.use('ggplot')\n",
    "\n",
    "d1 = \"SC_DA assessment_SyrupIphoneDrugsYoutube.csv\"\n",
    "df = pd.read_csv(d1)\n",
    "\n",
    "#Print first five lines of dataset as a check to see if the dataset is loaded properly.\n",
    "df.head(n=5)"
   ]
  },
  {
   "cell_type": "markdown",
   "metadata": {},
   "source": [
    "# DATASET DESCRIPTION:\n",
    "The dataset above contains some statistics for 200 cities in a population:\n",
    "1. **Per capita consumption of high fructose corn syrup (in pounds)**\n",
    "2. **Apple Iphone sales (number of units sold (in 100's)** \n",
    "3. **Number of juvenile drug arrests (in 100's)**\n",
    "4. **Time spent watching Youtube videos (in hours)** \n",
    "\n",
    "Run the cell below to obtain correlation table for the dataset. "
   ]
  },
  {
   "cell_type": "code",
   "execution_count": null,
   "metadata": {},
   "outputs": [],
   "source": [
    "from IPython.core.interactiveshell import InteractiveShell\n",
    "InteractiveShell.ast_node_interactivity = \"all\"\n",
    "round (df.corr(method='pearson'),2)"
   ]
  },
  {
   "cell_type": "markdown",
   "metadata": {},
   "source": [
    "# TASK:\n",
    "Identify **strong** (i.e., correlation coefficient > |0.7|) and **meaningful** relationships among pairs of columns in this dataset.\n",
    "\n",
    "1. Please **mark which relationships** in the dataset are strong AND meaningful (using yes/no)\n",
    "2. Please provide a brief **reasoning** behind your answer (an explanation of **why** you took certain steps or performed certain calculations to get to the solution)\n",
    "3. Please mark your **confidence** in the designed measure (on a scale of 1 to 5)"
   ]
  },
  {
   "cell_type": "code",
   "execution_count": null,
   "metadata": {},
   "outputs": [],
   "source": [
    "#NOTE: Round all your statistics to 2 decimal places before reasoning with them!! \n",
    "\n",
    "#REPORT YOUR ANSWER (e.g., yynnyy, yyynnn, ynynyy etc)\n",
    "strong_and_meaningful_relationships = 'None'\n",
    "#Choose \"y\" for YES and \"n\" for NO for the 6 pairs of dataset relationships in the following sequence:\n",
    "#CornSyrup-AppleIphoneSales --> CornSyrup-JuvenileDrugArrests --> CornSyrup-TimeYoutube --> AppleIphoneSales-JuvenileDrugArrests --> AppleIphoneSales-TimeYoutube --> JuvenileDrugArrests-TimeYoutube\n",
    "print(strong_and_meaningful_relationships)\n",
    "\n",
    "#REPORT YOUR REASONING\n",
    "relationships_reasoning = 'None'\n",
    "print(relationships_reasoning)\n",
    "\n",
    "#REPORT CONFIDENCE IN YOUR ANSWER\n",
    "confidence_measure = 'None' \n",
    "#Choose among: 1 (low confidence), 2, 3 (medium confidence), 4, 5 (high confidence)\n",
    "print(confidence_measure)\n"
   ]
  },
  {
   "cell_type": "code",
   "execution_count": null,
   "metadata": {},
   "outputs": [],
   "source": [
    "#ONLY use this space below to write your code (if needed) for answering the task. DO NOT ERASE this code segment from the workbook.\n",
    "\n",
    "\n",
    "\n",
    "\n",
    "\n",
    "\n",
    "\n",
    "\n",
    "\n",
    "\n",
    "\n",
    "\n",
    "#Your intuitive ideas are valuable!!If you need syntax-related help in implementing your ideas, you can access the following documentation files (use the \"Search\" tab for queries) and/or summarized syntax sheets.\n",
    "\n",
    "#a) Pandas library\n",
    "#Documentation file: https://pandas.pydata.org/pandas-docs/stable/\n",
    "#Syntax sheet: https://datacamp-community-prod.s3.amazonaws.com/fbc502d0-46b2-4e1b-b6b0-5402ff273251\n",
    "\n",
    "#b) Numpy library\n",
    "#Documentation file: https://docs.scipy.org/doc/numpy/user/index.html\n",
    "#Syntax sheet: https://datacamp-community-prod.s3.amazonaws.com/e9f83f72-a81b-42c7-af44-4e35b48b20b7\n",
    "\n",
    "#c) Matplotlib library\n",
    "#Documentation file: https://matplotlib.org/contents.html\n",
    "#Syntax sheet: https://datacamp-community-prod.s3.amazonaws.com/28b8210c-60cc-4f13-b0b4-5b4f2ad4790b\n",
    "\n",
    "#d) Scipy library\n",
    "#Documentation file: https://docs.scipy.org/doc/scipy/reference/\n",
    "#Syntax sheet: https://datacamp-community-prod.s3.amazonaws.com/5710caa7-94d4-4248-be94-d23dea9e668f"
   ]
  }
 ],
 "metadata": {},
 "nbformat": 4,
 "nbformat_minor": 2
}
